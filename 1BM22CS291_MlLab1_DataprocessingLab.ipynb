{
  "nbformat": 4,
  "nbformat_minor": 0,
  "metadata": {
    "colab": {
      "provenance": []
    },
    "kernelspec": {
      "name": "python3",
      "display_name": "Python 3"
    },
    "language_info": {
      "name": "python"
    }
  },
  "cells": [
    {
      "cell_type": "code",
      "execution_count": null,
      "metadata": {
        "id": "S1zKz3V7mGqI"
      },
      "outputs": [],
      "source": [
        "import pandas as pd\n",
        "import numpy as np"
      ]
    },
    {
      "cell_type": "markdown",
      "source": [
        "**Diabetes dataset**"
      ],
      "metadata": {
        "id": "ksUtQYUnwY2q"
      }
    },
    {
      "cell_type": "code",
      "source": [
        "diabetes=pd.read_csv('/content/Dataset of Diabetes .csv')\n",
        "print(\"Head\",diabetes.head(),sep=\"\\n\")\n",
        "print(\"Info\",diabetes.info(),sep=\"\\n\")\n",
        "print(\"Describe\",diabetes.describe(),sep=\"\\n\")"
      ],
      "metadata": {
        "colab": {
          "base_uri": "https://localhost:8080/"
        },
        "id": "Tgki8ueEoOmT",
        "outputId": "a937d2d9-7bcb-4a1d-eea4-eb36b3434088"
      },
      "execution_count": null,
      "outputs": [
        {
          "output_type": "stream",
          "name": "stdout",
          "text": [
            "Head\n",
            "    ID  No_Pation Gender  AGE  Urea  Cr  HbA1c  Chol   TG  HDL  LDL  VLDL  \\\n",
            "0  502      17975      F   50   4.7  46    4.9   4.2  0.9  2.4  1.4   0.5   \n",
            "1  735      34221      M   26   4.5  62    4.9   3.7  1.4  1.1  2.1   0.6   \n",
            "2  420      47975      F   50   4.7  46    4.9   4.2  0.9  2.4  1.4   0.5   \n",
            "3  680      87656      F   50   4.7  46    4.9   4.2  0.9  2.4  1.4   0.5   \n",
            "4  504      34223      M   33   7.1  46    4.9   4.9  1.0  0.8  2.0   0.4   \n",
            "\n",
            "    BMI CLASS  \n",
            "0  24.0     N  \n",
            "1  23.0     N  \n",
            "2  24.0     N  \n",
            "3  24.0     N  \n",
            "4  21.0     N  \n",
            "<class 'pandas.core.frame.DataFrame'>\n",
            "RangeIndex: 1000 entries, 0 to 999\n",
            "Data columns (total 14 columns):\n",
            " #   Column     Non-Null Count  Dtype  \n",
            "---  ------     --------------  -----  \n",
            " 0   ID         1000 non-null   int64  \n",
            " 1   No_Pation  1000 non-null   int64  \n",
            " 2   Gender     1000 non-null   object \n",
            " 3   AGE        1000 non-null   int64  \n",
            " 4   Urea       1000 non-null   float64\n",
            " 5   Cr         1000 non-null   int64  \n",
            " 6   HbA1c      1000 non-null   float64\n",
            " 7   Chol       1000 non-null   float64\n",
            " 8   TG         1000 non-null   float64\n",
            " 9   HDL        1000 non-null   float64\n",
            " 10  LDL        1000 non-null   float64\n",
            " 11  VLDL       1000 non-null   float64\n",
            " 12  BMI        1000 non-null   float64\n",
            " 13  CLASS      1000 non-null   object \n",
            "dtypes: float64(8), int64(4), object(2)\n",
            "memory usage: 109.5+ KB\n",
            "Info\n",
            "None\n",
            "Describe\n",
            "                ID     No_Pation          AGE         Urea           Cr  \\\n",
            "count  1000.000000  1.000000e+03  1000.000000  1000.000000  1000.000000   \n",
            "mean    340.500000  2.705514e+05    53.528000     5.124743    68.943000   \n",
            "std     240.397673  3.380758e+06     8.799241     2.935165    59.984747   \n",
            "min       1.000000  1.230000e+02    20.000000     0.500000     6.000000   \n",
            "25%     125.750000  2.406375e+04    51.000000     3.700000    48.000000   \n",
            "50%     300.500000  3.439550e+04    55.000000     4.600000    60.000000   \n",
            "75%     550.250000  4.538425e+04    59.000000     5.700000    73.000000   \n",
            "max     800.000000  7.543566e+07    79.000000    38.900000   800.000000   \n",
            "\n",
            "             HbA1c         Chol           TG          HDL          LDL  \\\n",
            "count  1000.000000  1000.000000  1000.000000  1000.000000  1000.000000   \n",
            "mean      8.281160     4.862820     2.349610     1.204750     2.609790   \n",
            "std       2.534003     1.301738     1.401176     0.660414     1.115102   \n",
            "min       0.900000     0.000000     0.300000     0.200000     0.300000   \n",
            "25%       6.500000     4.000000     1.500000     0.900000     1.800000   \n",
            "50%       8.000000     4.800000     2.000000     1.100000     2.500000   \n",
            "75%      10.200000     5.600000     2.900000     1.300000     3.300000   \n",
            "max      16.000000    10.300000    13.800000     9.900000     9.900000   \n",
            "\n",
            "              VLDL          BMI  \n",
            "count  1000.000000  1000.000000  \n",
            "mean      1.854700    29.578020  \n",
            "std       3.663599     4.962388  \n",
            "min       0.100000    19.000000  \n",
            "25%       0.700000    26.000000  \n",
            "50%       0.900000    30.000000  \n",
            "75%       1.500000    33.000000  \n",
            "max      35.000000    47.750000  \n"
          ]
        }
      ]
    },
    {
      "cell_type": "code",
      "source": [
        "#missing values\n",
        "mv=diabetes.isnull().sum()\n",
        "print(\"Missing values\",mv[mv>0],sep=\"\\n\")"
      ],
      "metadata": {
        "colab": {
          "base_uri": "https://localhost:8080/"
        },
        "id": "DJvcFdoYozSb",
        "outputId": "d3224c52-1ece-4c98-b97e-a79a0fc9036c"
      },
      "execution_count": null,
      "outputs": [
        {
          "output_type": "stream",
          "name": "stdout",
          "text": [
            "Missing values\n",
            "Series([], dtype: int64)\n"
          ]
        }
      ]
    },
    {
      "cell_type": "code",
      "source": [
        "#Handling categorical data\n",
        "\n",
        "from sklearn.preprocessing import OrdinalEncoder, OneHotEncoder\n",
        "\n",
        "diabetes = diabetes.replace(to_replace='f', value='F', regex=True)\n",
        "\n",
        "# Initialize OrdinalEncoder for Gender column (F -> 0, M -> 1)\n",
        "ordinal_encoder = OrdinalEncoder(categories=[[\"F\", \"M\"]])\n",
        "\n",
        "# Fit and transform the Gender column to create a new column 'Gender_Encoded'\n",
        "diabetes[\"Gender_Encoded\"] = ordinal_encoder.fit_transform(diabetes[[\"Gender\"]])\n",
        "\n",
        "# Initialize OneHotEncoder for CLASS column\n",
        "onehot_encoder = OneHotEncoder(sparse_output=False)  # sparse_output=False gives a dense matrix\n",
        "\n",
        "# Fit and transform the CLASS column\n",
        "encoded_data = onehot_encoder.fit_transform(diabetes[[\"CLASS\"]])\n",
        "\n",
        "# Convert the resulting numpy array to a DataFrame with appropriate column names\n",
        "encoded_df = pd.DataFrame(encoded_data, columns=onehot_encoder.get_feature_names_out([\"CLASS\"]))\n",
        "\n",
        "# Concatenate the encoded columns with the original DataFrame\n",
        "diabetes_encoded = pd.concat([diabetes, encoded_df], axis=1)\n",
        "\n",
        "# Drop the original categorical columns (Gender and CLASS) since we have encoded versions\n",
        "diabetes_encoded.drop([\"Gender\", \"CLASS\"], axis=1, inplace=True)\n",
        "\n",
        "# Display the first few rows of the updated DataFrame\n",
        "print(diabetes_encoded.head())\n"
      ],
      "metadata": {
        "colab": {
          "base_uri": "https://localhost:8080/"
        },
        "id": "QaX3-bIUsEnz",
        "outputId": "ba697be3-27d0-4b92-fe39-2a0fd580d680"
      },
      "execution_count": null,
      "outputs": [
        {
          "output_type": "stream",
          "name": "stdout",
          "text": [
            "    ID  No_Pation  AGE  Urea  Cr  HbA1c  Chol   TG  HDL  LDL  VLDL   BMI  \\\n",
            "0  502      17975   50   4.7  46    4.9   4.2  0.9  2.4  1.4   0.5  24.0   \n",
            "1  735      34221   26   4.5  62    4.9   3.7  1.4  1.1  2.1   0.6  23.0   \n",
            "2  420      47975   50   4.7  46    4.9   4.2  0.9  2.4  1.4   0.5  24.0   \n",
            "3  680      87656   50   4.7  46    4.9   4.2  0.9  2.4  1.4   0.5  24.0   \n",
            "4  504      34223   33   7.1  46    4.9   4.9  1.0  0.8  2.0   0.4  21.0   \n",
            "\n",
            "   Gender_Encoded  CLASS_N  CLASS_N   CLASS_P  CLASS_Y  CLASS_Y   \n",
            "0             0.0      1.0       0.0      0.0      0.0       0.0  \n",
            "1             1.0      1.0       0.0      0.0      0.0       0.0  \n",
            "2             0.0      1.0       0.0      0.0      0.0       0.0  \n",
            "3             0.0      1.0       0.0      0.0      0.0       0.0  \n",
            "4             1.0      1.0       0.0      0.0      0.0       0.0  \n"
          ]
        }
      ]
    },
    {
      "cell_type": "code",
      "source": [
        "#Handling Outliers\n",
        "def detect_outliers(data):\n",
        "    outliers = []\n",
        "    threshold = 3\n",
        "    mean = np.mean(data)\n",
        "    std = np.std(data)\n",
        "    z_score=(data-mean)//std\n",
        "    for i in range(len(data)):\n",
        "        if np.abs(z_score[i])>threshold:\n",
        "            outliers.append(i)\n",
        "    return outliers\n",
        "\n",
        "print(\"For Age Column:\")\n",
        "print(detect_outliers(diabetes['AGE']))\n"
      ],
      "metadata": {
        "colab": {
          "base_uri": "https://localhost:8080/"
        },
        "id": "JMFZY7-0sM_y",
        "outputId": "ae27ccea-a98f-42da-f72c-69116509f319"
      },
      "execution_count": null,
      "outputs": [
        {
          "output_type": "stream",
          "name": "stdout",
          "text": [
            "For Age Column:\n",
            "[1, 86, 953, 979]\n"
          ]
        }
      ]
    },
    {
      "cell_type": "code",
      "source": [
        "#Data Transformations min max scalar\n",
        "def data_transformation(data):\n",
        "  min=np.min(data)\n",
        "  max=np.max(data)\n",
        "  scaled=[]\n",
        "  for i in data:\n",
        "    scaled.append((i-min)/(max-min))\n",
        "  print(scaled)\n",
        "\n",
        "print(\"For BMI column, first 50 values\")\n",
        "print(data_transformation(diabetes['BMI'][:50]))"
      ],
      "metadata": {
        "colab": {
          "base_uri": "https://localhost:8080/"
        },
        "id": "wGkeXxCHtW17",
        "outputId": "f8e1ff1a-6746-4dfc-e6ea-bd0be3d54ed6"
      },
      "execution_count": 15,
      "outputs": [
        {
          "output_type": "stream",
          "name": "stdout",
          "text": [
            "For BMI column, first 50 values\n",
            "[1.0, 0.8, 1.0, 1.0, 0.4, 0.4, 1.0, 1.0, 0.4, 1.0, 0.8, 0.4, 0.6, 0.8, 1.0, 0.4, 0.4, 0.6, 1.0, 0.8, 1.0, 1.0, 1.0, 0.8, 0.4, 0.6, 0.0, 0.6, 0.6, 0.6, 0.8, 1.0, 0.6, 1.0, 0.8, 0.6, 0.4, 0.4, 1.0, 0.8, 1.0, 0.4, 0.6, 0.4, 1.0, 0.4, 0.8, 1.0, 0.4, 0.6]\n",
            "None\n"
          ]
        }
      ]
    },
    {
      "cell_type": "markdown",
      "source": [
        "**Adult income data sets**"
      ],
      "metadata": {
        "id": "KlMrDobFwjCL"
      }
    },
    {
      "cell_type": "code",
      "source": [
        "income=pd.read_csv('/content/adult.csv')\n",
        "print(\"Head\",income.head(),sep=\"\\n\")\n",
        "print(\"Info\",income.info(),sep=\"\\n\")\n",
        "print(\"Describe\",income.describe(),sep=\"\\n\")"
      ],
      "metadata": {
        "colab": {
          "base_uri": "https://localhost:8080/"
        },
        "id": "fGv03udTtpsr",
        "outputId": "a69eebbf-7d8a-4daf-cfb9-19e56096c13b"
      },
      "execution_count": null,
      "outputs": [
        {
          "output_type": "stream",
          "name": "stdout",
          "text": [
            "Head\n",
            "   age  workclass  fnlwgt     education  educational-num      marital-status  \\\n",
            "0   25    Private  226802          11th                7       Never-married   \n",
            "1   38    Private   89814       HS-grad                9  Married-civ-spouse   \n",
            "2   28  Local-gov  336951    Assoc-acdm               12  Married-civ-spouse   \n",
            "3   44    Private  160323  Some-college               10  Married-civ-spouse   \n",
            "4   18          ?  103497  Some-college               10       Never-married   \n",
            "\n",
            "          occupation relationship   race  gender  capital-gain  capital-loss  \\\n",
            "0  Machine-op-inspct    Own-child  Black    Male             0             0   \n",
            "1    Farming-fishing      Husband  White    Male             0             0   \n",
            "2    Protective-serv      Husband  White    Male             0             0   \n",
            "3  Machine-op-inspct      Husband  Black    Male          7688             0   \n",
            "4                  ?    Own-child  White  Female             0             0   \n",
            "\n",
            "   hours-per-week native-country income  \n",
            "0              40  United-States  <=50K  \n",
            "1              50  United-States  <=50K  \n",
            "2              40  United-States   >50K  \n",
            "3              40  United-States   >50K  \n",
            "4              30  United-States  <=50K  \n",
            "<class 'pandas.core.frame.DataFrame'>\n",
            "RangeIndex: 48842 entries, 0 to 48841\n",
            "Data columns (total 15 columns):\n",
            " #   Column           Non-Null Count  Dtype \n",
            "---  ------           --------------  ----- \n",
            " 0   age              48842 non-null  int64 \n",
            " 1   workclass        48842 non-null  object\n",
            " 2   fnlwgt           48842 non-null  int64 \n",
            " 3   education        48842 non-null  object\n",
            " 4   educational-num  48842 non-null  int64 \n",
            " 5   marital-status   48842 non-null  object\n",
            " 6   occupation       48842 non-null  object\n",
            " 7   relationship     48842 non-null  object\n",
            " 8   race             48842 non-null  object\n",
            " 9   gender           48842 non-null  object\n",
            " 10  capital-gain     48842 non-null  int64 \n",
            " 11  capital-loss     48842 non-null  int64 \n",
            " 12  hours-per-week   48842 non-null  int64 \n",
            " 13  native-country   48842 non-null  object\n",
            " 14  income           48842 non-null  object\n",
            "dtypes: int64(6), object(9)\n",
            "memory usage: 5.6+ MB\n",
            "Info\n",
            "None\n",
            "Describe\n",
            "                age        fnlwgt  educational-num  capital-gain  \\\n",
            "count  48842.000000  4.884200e+04     48842.000000  48842.000000   \n",
            "mean      38.643585  1.896641e+05        10.078089   1079.067626   \n",
            "std       13.710510  1.056040e+05         2.570973   7452.019058   \n",
            "min       17.000000  1.228500e+04         1.000000      0.000000   \n",
            "25%       28.000000  1.175505e+05         9.000000      0.000000   \n",
            "50%       37.000000  1.781445e+05        10.000000      0.000000   \n",
            "75%       48.000000  2.376420e+05        12.000000      0.000000   \n",
            "max       90.000000  1.490400e+06        16.000000  99999.000000   \n",
            "\n",
            "       capital-loss  hours-per-week  \n",
            "count  48842.000000    48842.000000  \n",
            "mean      87.502314       40.422382  \n",
            "std      403.004552       12.391444  \n",
            "min        0.000000        1.000000  \n",
            "25%        0.000000       40.000000  \n",
            "50%        0.000000       40.000000  \n",
            "75%        0.000000       45.000000  \n",
            "max     4356.000000       99.000000  \n"
          ]
        }
      ]
    },
    {
      "cell_type": "code",
      "source": [
        "#missing values\n",
        "mv=income.isnull().sum()\n",
        "print(\"Missing values\",mv[mv>0],sep=\"\\n\")"
      ],
      "metadata": {
        "colab": {
          "base_uri": "https://localhost:8080/"
        },
        "id": "DVDD-uJBwzuD",
        "outputId": "e8097362-87c0-4ed4-d00a-56ffa629e974"
      },
      "execution_count": null,
      "outputs": [
        {
          "output_type": "stream",
          "name": "stdout",
          "text": [
            "Missing values\n",
            "Series([], dtype: int64)\n"
          ]
        }
      ]
    },
    {
      "cell_type": "code",
      "source": [
        "#Handling categorical data\n",
        "\n",
        "from sklearn.preprocessing import OrdinalEncoder, OneHotEncoder\n",
        "\n",
        "# Initialize OrdinalEncoder for Gender column\n",
        "ordinal_encoder = OrdinalEncoder(categories=[[\"Male\", \"Female\"]])\n",
        "\n",
        "# Fit and transform the Gender column\n",
        "income[\"Gender_Encoded\"] = ordinal_encoder.fit_transform(income[[\"gender\"]])\n",
        "\n",
        "# Initialize OneHotEncoder for Workclass column\n",
        "onehot_encoder = OneHotEncoder()\n",
        "\n",
        "# Fit and transform the Workclass column\n",
        "encoded_data = onehot_encoder.fit_transform(income[[\"workclass\"]])\n",
        "\n",
        "# Convert the sparse matrix to a dense array\n",
        "encoded_array = encoded_data.toarray()\n",
        "\n",
        "# Convert to DataFrame for better visualization\n",
        "encoded_df = pd.DataFrame(encoded_array, columns=onehot_encoder.get_feature_names_out([\"workclass\"]))\n",
        "\n",
        "# Concatenate the encoded columns with the original DataFrame\n",
        "income_encoded = pd.concat([income, encoded_df], axis=1)\n",
        "\n",
        "# Drop the original categorical columns (gender and workclass)\n",
        "income_encoded.drop([\"gender\", \"workclass\"], axis=1, inplace=True)\n",
        "\n",
        "# Display the first few rows of the updated DataFrame\n",
        "print(income_encoded.head())\n"
      ],
      "metadata": {
        "colab": {
          "base_uri": "https://localhost:8080/"
        },
        "id": "AlZbdj5Fw5zK",
        "outputId": "06457449-40fe-4577-c597-53bea3080738"
      },
      "execution_count": null,
      "outputs": [
        {
          "output_type": "stream",
          "name": "stdout",
          "text": [
            "   age  fnlwgt     education  educational-num      marital-status  \\\n",
            "0   25  226802          11th                7       Never-married   \n",
            "1   38   89814       HS-grad                9  Married-civ-spouse   \n",
            "2   28  336951    Assoc-acdm               12  Married-civ-spouse   \n",
            "3   44  160323  Some-college               10  Married-civ-spouse   \n",
            "4   18  103497  Some-college               10       Never-married   \n",
            "\n",
            "          occupation relationship   race  capital-gain  capital-loss  ...  \\\n",
            "0  Machine-op-inspct    Own-child  Black             0             0  ...   \n",
            "1    Farming-fishing      Husband  White             0             0  ...   \n",
            "2    Protective-serv      Husband  White             0             0  ...   \n",
            "3  Machine-op-inspct      Husband  Black          7688             0  ...   \n",
            "4                  ?    Own-child  White             0             0  ...   \n",
            "\n",
            "   Gender_Encoded workclass_? workclass_Federal-gov  workclass_Local-gov  \\\n",
            "0             0.0         0.0                   0.0                  0.0   \n",
            "1             0.0         0.0                   0.0                  0.0   \n",
            "2             0.0         0.0                   0.0                  1.0   \n",
            "3             0.0         0.0                   0.0                  0.0   \n",
            "4             1.0         1.0                   0.0                  0.0   \n",
            "\n",
            "   workclass_Never-worked  workclass_Private  workclass_Self-emp-inc  \\\n",
            "0                     0.0                1.0                     0.0   \n",
            "1                     0.0                1.0                     0.0   \n",
            "2                     0.0                0.0                     0.0   \n",
            "3                     0.0                1.0                     0.0   \n",
            "4                     0.0                0.0                     0.0   \n",
            "\n",
            "   workclass_Self-emp-not-inc  workclass_State-gov  workclass_Without-pay  \n",
            "0                         0.0                  0.0                    0.0  \n",
            "1                         0.0                  0.0                    0.0  \n",
            "2                         0.0                  0.0                    0.0  \n",
            "3                         0.0                  0.0                    0.0  \n",
            "4                         0.0                  0.0                    0.0  \n",
            "\n",
            "[5 rows x 23 columns]\n"
          ]
        }
      ]
    },
    {
      "cell_type": "code",
      "source": [
        "#Handling Outliers\n",
        "def detect_outliers(data):\n",
        "    outliers = []\n",
        "    q1 = np.percentile(data, 25)\n",
        "    q3 = np.percentile(data, 75)\n",
        "    iqr = q3 - q1\n",
        "    lower_bound = q1 - 1.5 * iqr\n",
        "    upper_bound = q3 + 1.5 * iqr\n",
        "    for i in range(len(data)):\n",
        "        if data[i] < lower_bound or data[i] > upper_bound:\n",
        "            outliers.append(i)\n",
        "    return outliers\n",
        "\n",
        "print(\"For Age Column:\")\n",
        "print(detect_outliers(income['age']))"
      ],
      "metadata": {
        "colab": {
          "base_uri": "https://localhost:8080/"
        },
        "id": "BU2Qso5Yw8Xy",
        "outputId": "2d1b5c09-373f-4559-d208-cc5bf14dec09"
      },
      "execution_count": null,
      "outputs": [
        {
          "output_type": "stream",
          "name": "stdout",
          "text": [
            "For Age Column:\n",
            "[193, 234, 899, 926, 951, 1079, 1398, 1834, 2085, 2290, 2982, 3496, 3668, 4455, 4646, 4658, 6402, 6577, 6757, 6915, 6959, 6976, 6979, 7160, 7170, 7414, 7419, 7539, 7547, 7937, 8206, 8313, 8427, 8955, 8982, 9018, 9038, 9081, 9279, 9769, 9888, 10039, 10199, 10223, 10735, 11289, 11328, 11410, 11837, 11871, 11881, 11940, 12060, 12229, 12446, 13025, 13958, 14033, 14263, 14299, 14431, 14568, 14591, 14740, 15088, 15098, 15408, 15934, 15963, 16003, 16106, 16148, 16251, 16355, 16503, 16711, 17199, 17321, 17449, 18216, 18584, 19035, 19172, 19187, 19492, 19619, 19818, 20058, 20244, 20351, 20390, 21001, 21115, 21385, 21553, 21572, 21651, 21687, 22281, 22454, 22495, 22513, 22720, 22905, 23029, 23762, 24001, 24153, 24457, 24662, 24712, 24803, 24975, 25087, 25244, 25254, 25752, 26405, 26491, 26826, 27380, 27519, 27793, 27813, 28012, 28277, 28732, 28773, 29111, 29256, 29306, 29307, 29576, 29977, 30209, 30385, 30440, 30885, 30992, 31037, 31184, 31637, 31943, 32173, 32583, 32804, 33043, 33182, 33890, 34318, 34422, 34553, 34558, 34694, 34841, 35006, 35113, 35326, 35453, 35461, 35493, 35770, 35776, 35796, 35970, 36028, 36109, 36530, 36702, 36744, 36763, 36764, 36891, 37107, 37161, 37234, 37624, 37782, 38093, 38116, 38501, 38762, 39176, 39179, 39740, 40181, 40308, 40324, 40519, 40561, 40676, 40841, 41444, 41584, 41678, 42293, 42523, 43012, 44076, 44457, 44744, 45002, 45229, 45875, 46005, 47311, 47713, 47977, 48095, 48117, 48136, 48558, 48648, 48740, 48775, 48806]\n"
          ]
        }
      ]
    },
    {
      "cell_type": "code",
      "source": [
        "#Data Transformations Standard Scaler\n",
        "def data_transformation(data):\n",
        "  mean=np.mean(data)\n",
        "  std=np.std(data)\n",
        "  scaled=[]\n",
        "  for i in data:\n",
        "    scaled.append((i-mean)/std)\n",
        "  print(scaled)\n",
        "\n",
        "print(\"For capital-gain column, first 50 values\")\n",
        "print(data_transformation(income['capital-gain'][:50]))"
      ],
      "metadata": {
        "colab": {
          "base_uri": "https://localhost:8080/"
        },
        "id": "UFauIdHsxTS0",
        "outputId": "edc333b1-029d-4ae8-ce77-beffec37c1fe"
      },
      "execution_count": 16,
      "outputs": [
        {
          "output_type": "stream",
          "name": "stdout",
          "text": [
            "For capital-gain column, first 50 values\n",
            "[-0.37686781529155805, -0.37686781529155805, -0.37686781529155805, 3.3181785602141023, -0.37686781529155805, -0.37686781529155805, -0.37686781529155805, 1.114512114884569, -0.37686781529155805, -0.37686781529155805, 2.7077845829908727, -0.37686781529155805, -0.37686781529155805, -0.37686781529155805, 1.114512114884569, -0.37686781529155805, -0.37686781529155805, -0.37686781529155805, -0.37686781529155805, -0.37686781529155805, -0.37686781529155805, -0.37686781529155805, -0.37686781529155805, -0.37686781529155805, -0.37686781529155805, 3.13073474043689, -0.37686781529155805, -0.37686781529155805, -0.37686781529155805, -0.37686781529155805, 3.3181785602141023, -0.37686781529155805, -0.37686781529155805, -0.37686781529155805, -0.37686781529155805, -0.37686781529155805, -0.37686781529155805, -0.37686781529155805, -0.37686781529155805, -0.37686781529155805, -0.37686781529155805, -0.37686781529155805, -0.37686781529155805, -0.37686781529155805, -0.37686781529155805, -0.37686781529155805, -0.37686781529155805, 1.5014153839118916, -0.37686781529155805, -0.37686781529155805]\n",
            "None\n"
          ]
        }
      ]
    },
    {
      "cell_type": "code",
      "source": [],
      "metadata": {
        "id": "lmNc8qcCx7qz"
      },
      "execution_count": null,
      "outputs": []
    }
  ]
}